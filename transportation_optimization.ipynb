{
 "cells": [
  {
   "cell_type": "markdown",
   "id": "c7531b0a",
   "metadata": {},
   "source": [
    "# Transportation Problem Optimization\n",
    "\n",
    "This notebook solves a transportation problem using linear programming with the PuLP library.  \n",
    "The goal is to minimize transportation cost while meeting supply and demand constraints.\n"
   ]
  },
  {
   "cell_type": "code",
   "execution_count": null,
   "id": "b8f3284c",
   "metadata": {},
   "outputs": [],
   "source": [
    "# Import PuLP library for optimization\n",
    "import pulp\n"
   ]
  },
  {
   "cell_type": "markdown",
   "id": "d4342073",
   "metadata": {},
   "source": [
    "## Define Supply, Demand, and Costs\n",
    "\n",
    "We have:\n",
    "- Warehouses (suppliers) with limited supply.\n",
    "- Stores (demand points) with required demand.\n",
    "- Transportation cost per unit from each warehouse to each store.\n"
   ]
  },
  {
   "cell_type": "code",
   "execution_count": null,
   "id": "84e4a181",
   "metadata": {},
   "outputs": [],
   "source": [
    "# Supply at each warehouse\n",
    "supply = {'W1': 20, 'W2': 30, 'W3': 25}\n",
    "\n",
    "# Demand at each store\n",
    "demand = {'S1': 10, 'S2': 25, 'S3': 25, 'S4': 15}\n",
    "\n",
    "# Transportation costs from each warehouse to each store\n",
    "costs = {\n",
    "    ('W1', 'S1'): 8, ('W1', 'S2'): 6, ('W1', 'S3'): 10, ('W1', 'S4'): 9,\n",
    "    ('W2', 'S1'): 9, ('W2', 'S2'): 12, ('W2', 'S3'): 13, ('W2', 'S4'): 7,\n",
    "    ('W3', 'S1'): 14, ('W3', 'S2'): 9, ('W3', 'S3'): 16, ('W3', 'S4'): 5\n",
    "}\n"
   ]
  },
  {
   "cell_type": "markdown",
   "id": "82060c8f",
   "metadata": {},
   "source": [
    "## Create the Linear Programming Problem\n",
    "\n",
    "We define the problem as a minimization problem.\n"
   ]
  },
  {
   "cell_type": "code",
   "execution_count": null,
   "id": "9cce6b55",
   "metadata": {},
   "outputs": [],
   "source": [
    "# Define the LP problem\n",
    "problem = pulp.LpProblem(\"Transportation_Problem\", pulp.LpMinimize)\n"
   ]
  },
  {
   "cell_type": "markdown",
   "id": "b69df946",
   "metadata": {},
   "source": [
    "## Decision Variables\n",
    "\n",
    "Define variables representing the number of units shipped from each warehouse to each store.\n"
   ]
  },
  {
   "cell_type": "code",
   "execution_count": null,
   "id": "bf1df0e7",
   "metadata": {},
   "outputs": [],
   "source": [
    "# Decision variables: shipment quantities\n",
    "routes = [(w, s) for w in supply for s in demand]\n",
    "shipment_vars = pulp.LpVariable.dicts(\"Route\", (supply.keys(), demand.keys()), lowBound=0, cat='Continuous')\n"
   ]
  },
  {
   "cell_type": "markdown",
   "id": "e033d0a9",
   "metadata": {},
   "source": [
    "## Objective Function\n",
    "\n",
    "Minimize total transportation cost based on shipment quantities and per unit costs.\n"
   ]
  },
  {
   "cell_type": "code",
   "execution_count": null,
   "id": "3767f5ad",
   "metadata": {},
   "outputs": [],
   "source": [
    "# Objective function: minimize total cost\n",
    "problem += pulp.lpSum([shipment_vars[w][s] * costs[(w, s)] for (w, s) in routes]), \"Total_Transportation_Cost\"\n"
   ]
  },
  {
   "cell_type": "markdown",
   "id": "78e29857",
   "metadata": {},
   "source": [
    "## Constraints\n",
    "\n",
    "- Supply constraints: can't ship more than available supply at each warehouse.\n",
    "- Demand constraints: must meet demand at each store.\n"
   ]
  },
  {
   "cell_type": "code",
   "execution_count": null,
   "id": "cc7f5e72",
   "metadata": {},
   "outputs": [],
   "source": [
    "# Supply constraints\n",
    "for w in supply:\n",
    "    problem += pulp.lpSum([shipment_vars[w][s] for s in demand]) <= supply[w], f\"Supply_Constraint_{w}\"\n",
    "\n",
    "# Demand constraints\n",
    "for s in demand:\n",
    "    problem += pulp.lpSum([shipment_vars[w][s] for w in supply]) >= demand[s], f\"Demand_Constraint_{s}\"\n"
   ]
  },
  {
   "cell_type": "markdown",
   "id": "92179868",
   "metadata": {},
   "source": [
    "## Solve the Optimization Problem\n",
    "\n",
    "Use PuLP's default solver to find the optimal solution.\n"
   ]
  },
  {
   "cell_type": "code",
   "execution_count": null,
   "id": "5274f089",
   "metadata": {},
   "outputs": [],
   "source": [
    "# Solve the problem\n",
    "problem.solve()\n",
    "\n",
    "# Print the status of the solution\n",
    "print(f\"Status: {pulp.LpStatus[problem.status]}\\n\")\n",
    "\n",
    "print(\"Optimal Shipment Plan:\")\n",
    "for w in supply:\n",
    "    for s in demand:\n",
    "        quantity = shipment_vars[w][s].varValue\n",
    "        if quantity and quantity > 0:\n",
    "            print(f\"  - Ship {quantity:.1f} units from Warehouse {w} to Store {s}\")\n",
    "\n",
    "print(f\"\\nTotal Transportation Cost = {pulp.value(problem.objective):.2f}\")\n"
   ]
  },
  {
   "cell_type": "markdown",
   "id": "7f0db097",
   "metadata": {},
   "source": [
    "## Insights and Conclusion\n",
    "\n",
    "- The model optimizes transportation to minimize total cost.\n",
    "- All store demands are met without exceeding warehouse supplies.\n",
    "- The results provide actionable guidance for efficient logistics planning.\n"
   ]
  }
 ],
 "metadata": {
  "kernelspec": {
   "display_name": "Python 3",
   "language": "python",
   "name": "python3"
  },
  "language_info": {
   "codemirror_mode": {
    "name": "ipython",
    "version": 3
   },
   "file_extension": ".py",
   "mimetype": "text/x-python",
   "name": "python",
   "nbconvert_exporter": "python",
   "pygments_lexer": "ipython3",
   "version": "3.13.3"
  }
 },
 "nbformat": 4,
 "nbformat_minor": 5
}
